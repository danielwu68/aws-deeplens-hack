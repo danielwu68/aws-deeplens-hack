{
 "cells": [
  {
   "cell_type": "code",
   "execution_count": null,
   "id": "eafe22e5-c772-4fd0-8179-58d5819c4c78",
   "metadata": {
    "jupyter": {
     "source_hidden": true
    }
   },
   "outputs": [],
   "source": [
    "import os\n",
    "import stat\n",
    "import cv2\n",
    "import numpy as np\n",
    "import matplotlib.pyplot as plt"
   ]
  },
  {
   "cell_type": "code",
   "execution_count": null,
   "id": "81aa8c87-1fa5-41a9-8ba5-4e7c1b45926e",
   "metadata": {
    "jupyter": {
     "source_hidden": true
    }
   },
   "outputs": [],
   "source": [
    "# AWSCAM Root\n",
    "AWSCAM_ROOT = '/opt/awscam'"
   ]
  },
  {
   "cell_type": "code",
   "execution_count": null,
   "id": "f7591849-dc38-4309-8708-edf8459ac599",
   "metadata": {},
   "outputs": [],
   "source": [
    "# video_src = f\"{AWSCAM_ROOT}/out/ch1_out.h264\"\n",
    "video_src = f\"{AWSCAM_ROOT}/out/ch2_out.mjpeg\"\n",
    "\n",
    "while not stat.S_ISFIFO(os.stat(video_src).st_mode): continue\n",
    "    \n",
    "video_capture = cv2.VideoCapture(video_src)\n",
    "cnt = 0\n",
    "while cnt < 1:\n",
    "    ret, frame = video_capture.read()\n",
    "    if ret:\n",
    "        cnt += 1\n",
    "        plt.rcParams[\"figure.figsize\"] = (16, 9) \n",
    "        plt.imshow(cv2.cvtColor(frame, cv2.COLOR_BGR2RGB))\n",
    "        plt.title(f\"Image: {cnt}\")\n",
    "        plt.show()\n",
    "\n",
    "video_capture.release()"
   ]
  }
 ],
 "metadata": {
  "kernelspec": {
   "display_name": "Python 3 (ipykernel)",
   "language": "python",
   "name": "python3"
  },
  "language_info": {
   "codemirror_mode": {
    "name": "ipython",
    "version": 3
   },
   "file_extension": ".py",
   "mimetype": "text/x-python",
   "name": "python",
   "nbconvert_exporter": "python",
   "pygments_lexer": "ipython3",
   "version": "3.11.5"
  }
 },
 "nbformat": 4,
 "nbformat_minor": 5
}
